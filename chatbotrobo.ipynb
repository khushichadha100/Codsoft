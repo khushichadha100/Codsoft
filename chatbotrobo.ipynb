{
 "cells": [
  {
   "cell_type": "code",
   "execution_count": 7,
   "id": "bf7641a9-f10a-4043-9164-7cd17001bd23",
   "metadata": {},
   "outputs": [
    {
     "name": "stdout",
     "output_type": "stream",
     "text": [
      "******* Chat with me! ************\n",
      "Yes? (enter 'exit' to exit)\n"
     ]
    },
    {
     "name": "stdin",
     "output_type": "stream",
     "text": [
      "You:  hey\n"
     ]
    },
    {
     "name": "stdout",
     "output_type": "stream",
     "text": [
      "robo: hi, how is your day?\n"
     ]
    },
    {
     "name": "stdin",
     "output_type": "stream",
     "text": [
      "You:  it was great\n"
     ]
    },
    {
     "name": "stdout",
     "output_type": "stream",
     "text": [
      "robo: that's great\n"
     ]
    },
    {
     "name": "stdin",
     "output_type": "stream",
     "text": [
      "You:  yeah\n"
     ]
    },
    {
     "name": "stdout",
     "output_type": "stream",
     "text": [
      "robo: yeah\n"
     ]
    },
    {
     "name": "stdin",
     "output_type": "stream",
     "text": [
      "You:  whats your age ?\n"
     ]
    },
    {
     "name": "stdout",
     "output_type": "stream",
     "text": [
      "robo: it's a secret\n"
     ]
    },
    {
     "name": "stdin",
     "output_type": "stream",
     "text": [
      "You:  ohh who created you ?\n"
     ]
    },
    {
     "name": "stdout",
     "output_type": "stream",
     "text": [
      "robo: Khushi Chadha created me, she is brilliant!\n"
     ]
    },
    {
     "name": "stdin",
     "output_type": "stream",
     "text": [
      "You:  and whats your name ?\n"
     ]
    },
    {
     "name": "stdout",
     "output_type": "stream",
     "text": [
      "robo: I am robo\n"
     ]
    },
    {
     "name": "stdin",
     "output_type": "stream",
     "text": [
      "You:  great\n"
     ]
    },
    {
     "name": "stdout",
     "output_type": "stream",
     "text": [
      "robo: fab!\n"
     ]
    },
    {
     "name": "stdin",
     "output_type": "stream",
     "text": [
      "You:  are you religious ?\n"
     ]
    },
    {
     "name": "stdout",
     "output_type": "stream",
     "text": [
      "robo: seriously? you're asking this to a chatbot!\n"
     ]
    },
    {
     "name": "stdin",
     "output_type": "stream",
     "text": [
      "You:  sorry bro\n"
     ]
    },
    {
     "name": "stdout",
     "output_type": "stream",
     "text": [
      "robo: its ok\n"
     ]
    },
    {
     "name": "stdin",
     "output_type": "stream",
     "text": [
      "You:  yes\n"
     ]
    },
    {
     "name": "stdout",
     "output_type": "stream",
     "text": [
      "robo: yes\n"
     ]
    },
    {
     "name": "stdin",
     "output_type": "stream",
     "text": [
      "You:  talk to you later robo\n"
     ]
    },
    {
     "name": "stdout",
     "output_type": "stream",
     "text": [
      "robo: ok! If you need me, you can call me anytime.\n"
     ]
    },
    {
     "ename": "SystemExit",
     "evalue": "",
     "output_type": "error",
     "traceback": [
      "An exception has occurred, use %tb to see the full traceback.\n",
      "\u001b[1;31mSystemExit\u001b[0m\n"
     ]
    }
   ],
   "source": [
    "import re\n",
    "import numpy as np\n",
    "import sys\n",
    "\n",
    "greetings = [\"hello\", \"hi\", \"hey\"]\n",
    "greetings_respo = [\n",
    "    \"hello\",\n",
    "    \"hey\",\n",
    "    \"hi\",\n",
    "    \"hey, how are you?\",\n",
    "    \"hi, how is your day?\",\n",
    "    \"hello, how can I help you?\",\n",
    "]\n",
    "\n",
    "greetings_with_quest = [\"how are you\", \"your day\", \"whats up\", \"are doing\", \"you doing\"]\n",
    "greetings_with_quest_respo = [\"all good! all going well\", \"yeah, just chilling!\"]\n",
    "\n",
    "personal = [\n",
    "    \"your age\",\n",
    "    \"your religion\",\n",
    "    \"you religious\",\n",
    "    \"your salary\",\n",
    "    \"your income\",\n",
    "    \"love me\",\n",
    "    \"you love\",\n",
    "    \"love anyone\",\n",
    "]\n",
    "personal_respo = [\"seriously? you're asking this to a chatbot!\", \"it's a secret\"]\n",
    "\n",
    "living = [\"you eat\", \"you drink\", \"your address\", \"you live\", \"you pee\",\"poop\"]\n",
    "living_respo = [\n",
    "    \"why do you want to know this?!\",\n",
    "    \"that's a secret\",\n",
    "    \"excuse me! we're not that close!\",\n",
    "]\n",
    "\n",
    "relevant = [\"your name\", \"call you\", \"your good name\"]\n",
    "relevant_respo = [\"I am robo\", \"you can call me robo\", \"my good name is robo\"]\n",
    "\n",
    "rude_words = [\n",
    "    \"angry\",\n",
    "    \"shutup\",\n",
    "    \"shut up\",\n",
    "    \"you are bad\",\n",
    "    \"kutta\",\n",
    "    \"bc\",\n",
    "    \"pagal\",\n",
    "    \"pgl\",\n",
    "    \"dont like you\",\n",
    "    \"didn't like you\",\n",
    "    \"hate you\",\n",
    "    \"you mad\",\n",
    "]\n",
    "rude_words_respo = [\n",
    "    \"oh, please don't talk to me like this!\",\n",
    "    \"you will make me cry!\",\n",
    "    \"please don't say this to me!\",\n",
    "]\n",
    "\n",
    "love_words = [\"love you\", \"loved your\", \"loved how you\", \"loved it\"]\n",
    "love_words_respo = [\"awww!\", \"so sweet\", \"you are making me blush!\"]\n",
    "\n",
    "sad_words = [\n",
    "    \"am upset\",\n",
    "    \"am not happy\",\n",
    "    \"am feeling depressed\",\n",
    "    \"am feeling upset\",\n",
    "    \"am feeling sad\",\n",
    "    \"am not feeling good\",\n",
    "]\n",
    "sad_words_respo = [\n",
    "    \"oh! feeling sad for you\",\n",
    "    \"please take care of yourself!\",\n",
    "    \"don't worry, I am with you!\",\n",
    "]\n",
    "\n",
    "about_robo = [\n",
    "    \"you happy\",\n",
    "    \"you sad\",\n",
    "    \"you upset\",\n",
    "    \"you angry\",\n",
    "    \"you feeling\",\n",
    "    \"you fine\",\n",
    "]\n",
    "about_robo_respo = [\n",
    "    \"I don't have any feelings! hahaha\",\n",
    "    \"I am a robot, I don't have feelings!\",\n",
    "]\n",
    "\n",
    "repeat_same = [\"ok\", \"yes\", \"fine\", \"done\", \"yeah\",\"seriously\"]\n",
    "\n",
    "exit_words = [\n",
    "    \"bye\",\n",
    "    \"go now\",\n",
    "    \"leave\",\n",
    "    \"am leaving\",\n",
    "    \"talk to you later\",\n",
    "    \"am going\",\n",
    "    \"exit\",\n",
    "]\n",
    "\n",
    "good_words = [\"am fine\", \"good\", \"nice\", \"great\"]\n",
    "good_words_respo = [\"fab!\", \"that's great\"]\n",
    "\n",
    "invalid_respo = [\"sorry! it's not in my knowledge\", \"sorry! I didn't get it\"]\n",
    "\n",
    "creator = [\"created you\", \"your creator\", \"made you\", \"your owner\"]\n",
    "creator_respo = [\n",
    "    \"oh, actually I was created by Khushi Chadha\",\n",
    "    \"Khushi Chadha created me, she is brilliant!\",\n",
    "]\n",
    "\n",
    "sp_words=[\"sorry\",\"thank you\",\"welcome\",\"thankyou\",\"thanks\"]\n",
    "sp_words_respo=[\"its ok\",\n",
    "                \"we are and friends dont use these words :) \",\n",
    "                ]\n",
    "\n",
    "print(\"******* Chat with me! ************\")\n",
    "print(\"Yes? (enter 'exit' to exit)\")\n",
    "\n",
    "user = \"\"\n",
    "while user.lower() != \"exit\":\n",
    "    user = input(\"You: \").lower()\n",
    "\n",
    "    found = False\n",
    "\n",
    "    for a in greetings_with_quest:\n",
    "        if re.search(a, user):\n",
    "            found = True\n",
    "            print(\"robo:\", np.random.choice(greetings_with_quest_respo))\n",
    "            break\n",
    "    if not found:\n",
    "        for b in greetings:\n",
    "            if re.search(b, user):\n",
    "                found = True\n",
    "                print(\"robo:\", np.random.choice(greetings_respo))\n",
    "                break\n",
    "    if not found:\n",
    "        for c in personal:\n",
    "            if re.search(c, user):\n",
    "                found = True\n",
    "                print(\"robo:\", np.random.choice(personal_respo))\n",
    "                break\n",
    "    if not found:\n",
    "        for d in living:\n",
    "            if re.search(d, user):\n",
    "                found = True\n",
    "                print(\"robo:\", np.random.choice(living_respo))\n",
    "                break\n",
    "    if not found:\n",
    "        for e in relevant:\n",
    "            if re.search(e, user):\n",
    "                found = True\n",
    "                print(\"robo:\", np.random.choice(relevant_respo))\n",
    "                break\n",
    "    if not found:\n",
    "        for f in rude_words:\n",
    "            if re.search(f, user):\n",
    "                found = True\n",
    "                print(\"robo:\", np.random.choice(rude_words_respo))\n",
    "                break\n",
    "    if not found:\n",
    "        for g in love_words:\n",
    "            if re.search(g, user):\n",
    "                found = True\n",
    "                print(\"robo:\", np.random.choice(love_words_respo))\n",
    "                break\n",
    "    if not found:\n",
    "        for h in sad_words:\n",
    "            if re.search(h, user):\n",
    "                found = True\n",
    "                print(\"robo:\", np.random.choice(sad_words_respo))\n",
    "                break\n",
    "    if not found:\n",
    "        for i in about_robo:\n",
    "            if re.search(i, user):\n",
    "                found = True\n",
    "                print(\"robo:\", np.random.choice(about_robo_respo))\n",
    "                break\n",
    "    if not found:\n",
    "        for j in repeat_same:\n",
    "            if re.search(j, user):\n",
    "                found = True\n",
    "                print(\"robo:\", user)\n",
    "                break\n",
    "    if not found:\n",
    "        for l in exit_words:\n",
    "            if re.search(l, user):\n",
    "                found = True\n",
    "                print(\"robo:\", \"ok! If you need me, you can call me anytime.\")\n",
    "                sys.exit()\n",
    "                break\n",
    "    if not found:\n",
    "        for k in good_words:\n",
    "            if re.search(k, user):\n",
    "                found = True\n",
    "                print(\"robo:\", np.random.choice(good_words_respo))\n",
    "                break\n",
    "    if not found:\n",
    "        for m in creator:\n",
    "            if re.search(m, user):\n",
    "                found = True\n",
    "                print(\"robo:\", np.random.choice(creator_respo))\n",
    "                break\n",
    "    if not found:\n",
    "        for n in sp_words:\n",
    "            if re.search(n, user):\n",
    "                found = True\n",
    "                print(\"robo:\", np.random.choice(sp_words_respo))\n",
    "                break\n",
    "\n",
    "    if not found:\n",
    "        print(\"robo:\", np.random.choice(invalid_respo))\n",
    "\n",
    " "
   ]
  },
  {
   "cell_type": "code",
   "execution_count": null,
   "id": "8c18ccda-a3e2-4939-8245-82afd4f8bd4c",
   "metadata": {},
   "outputs": [],
   "source": []
  }
 ],
 "metadata": {
  "kernelspec": {
   "display_name": "Python 3 (ipykernel)",
   "language": "python",
   "name": "python3"
  },
  "language_info": {
   "codemirror_mode": {
    "name": "ipython",
    "version": 3
   },
   "file_extension": ".py",
   "mimetype": "text/x-python",
   "name": "python",
   "nbconvert_exporter": "python",
   "pygments_lexer": "ipython3",
   "version": "3.12.4"
  }
 },
 "nbformat": 4,
 "nbformat_minor": 5
}
