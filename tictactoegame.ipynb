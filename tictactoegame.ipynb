{
 "cells": [
  {
   "cell_type": "code",
   "execution_count": 287,
   "id": "10414b92-5195-4b5f-9c0a-475cc1d8454e",
   "metadata": {},
   "outputs": [],
   "source": [
    "import math"
   ]
  },
  {
   "cell_type": "code",
   "execution_count": 298,
   "id": "3e236971-ab6d-4e0c-bdbb-a5bc492c7d92",
   "metadata": {},
   "outputs": [],
   "source": [
    "EMPTY = ' '\n",
    "\n",
    "def initialize_players():\n",
    "    user_move = input(\"Choose your mark (X/O): \").upper()\n",
    "    if user_move == \"X\":\n",
    "        print(\"You are X. Computer is O.\")\n",
    "        return 'X', 'O'\n",
    "    elif user_move == \"O\":\n",
    "        print(\"You are O. Computer is X.\")\n",
    "        return 'O', 'X'\n",
    "    else:\n",
    "        print(\"Invalid choice. Defaulting to X.\")\n",
    "        return 'X', 'O'"
   ]
  },
  {
   "cell_type": "code",
   "execution_count": 314,
   "id": "e35b7b99-8017-425f-b456-41550d5a6006",
   "metadata": {},
   "outputs": [],
   "source": [
    "def print_board(board):\n",
    "    for row in board:\n",
    "        print(' | '.join(row))\n",
    "        print('---' * 5)"
   ]
  },
  {
   "cell_type": "code",
   "execution_count": 302,
   "id": "19d6daca-31f4-4f04-b3ba-bc28a474ffdf",
   "metadata": {},
   "outputs": [],
   "source": [
    "def check_winner(board, player):\n",
    "    win_conditions = [\n",
    "        [board[0][0], board[0][1], board[0][2]],\n",
    "        [board[1][0], board[1][1], board[1][2]],\n",
    "        [board[2][0], board[2][1], board[2][2]],\n",
    "        [board[0][0], board[1][0], board[2][0]],\n",
    "        [board[0][1], board[1][1], board[2][1]],\n",
    "        [board[0][2], board[1][2], board[2][2]],\n",
    "        [board[0][0], board[1][1], board[2][2]],\n",
    "        [board[0][2], board[1][1], board[2][0]],\n",
    "    ]\n",
    "    return [player] * 3 in win_conditions"
   ]
  },
  {
   "cell_type": "code",
   "execution_count": 304,
   "id": "fe26207b-8741-4991-9203-9f8f02f45bac",
   "metadata": {},
   "outputs": [],
   "source": [
    "def is_full(board):\n",
    "    return all(cell != EMPTY for row in board for cell in row)"
   ]
  },
  {
   "cell_type": "code",
   "execution_count": 306,
   "id": "d10ecfec-427a-4660-9053-1d7716ca2541",
   "metadata": {},
   "outputs": [],
   "source": [
    "def minimax(board, depth, is_maximizing, player, opponent):\n",
    "    if check_winner(board, opponent):\n",
    "        return -10\n",
    "    if check_winner(board, player):\n",
    "        return 10\n",
    "    if is_full(board):\n",
    "        return 0\n",
    "\n",
    "    if is_maximizing:\n",
    "        best_score = -math.inf\n",
    "        for i in range(3):\n",
    "            for j in range(3):\n",
    "                if board[i][j] == EMPTY:\n",
    "                    board[i][j] = player\n",
    "                    score = minimax(board, depth + 1, False, player, opponent)\n",
    "                    board[i][j] = EMPTY\n",
    "                    best_score = max(score, best_score)\n",
    "        return best_score\n",
    "    else:\n",
    "        best_score = math.inf\n",
    "        for i in range(3):\n",
    "            for j in range(3):\n",
    "                if board[i][j] == EMPTY:\n",
    "                    board[i][j] = opponent\n",
    "                    score = minimax(board, depth + 1, True, player, opponent)\n",
    "                    board[i][j] = EMPTY\n",
    "                    best_score = min(score, best_score)\n",
    "        return best_score"
   ]
  },
  {
   "cell_type": "code",
   "execution_count": 308,
   "id": "9b3db3f0-fa60-4060-9628-e8235ee0f65f",
   "metadata": {},
   "outputs": [],
   "source": [
    "def get_best_move(board, player, opponent):\n",
    "    best_score = -math.inf\n",
    "    best_move = None\n",
    "    for i in range(3):\n",
    "        for j in range(3):\n",
    "            if board[i][j] == EMPTY:\n",
    "                board[i][j] = player\n",
    "                score = minimax(board, 0, False, player, opponent)\n",
    "                board[i][j] = EMPTY\n",
    "                if score > best_score:\n",
    "                    best_score = score\n",
    "                    best_move = (i, j)\n",
    "    return best_move"
   ]
  },
  {
   "cell_type": "code",
   "execution_count": 310,
   "id": "f677230b-4163-47fa-adb6-9be263320e08",
   "metadata": {},
   "outputs": [],
   "source": [
    "def play_game():\n",
    "    player, computer = initialize_players()\n",
    "    board = [[EMPTY] * 3 for _ in range(3)]\n",
    "    print(\"\\nInitial Board:\")\n",
    "    print_board(board)\n",
    "\n",
    "    while True:\n",
    "        # Player Move\n",
    "        while True:\n",
    "            try:\n",
    "                x, y = map(int, input(f\"Enter row and column for {player} (0-2): \").split())\n",
    "                if board[x][y] == EMPTY:\n",
    "                    board[x][y] = player\n",
    "                    break\n",
    "                else:\n",
    "                    print(\"Cell is taken. Try again.\")\n",
    "            except (ValueError, IndexError):\n",
    "                print(\"Invalid input. Try again.\")\n",
    "\n",
    "        print(\"\\nUpdated Board:\")\n",
    "        print_board(board)\n",
    "        \n",
    "        if check_winner(board, player):\n",
    "            print(f\"\\nCongratulations! {player} wins!\")\n",
    "            break\n",
    "        if is_full(board):\n",
    "            print(\"\\nIt's a draw!\")\n",
    "            break\n",
    "\n",
    "        # Computer Move\n",
    "        print(\"\\nAI 's Move:\")\n",
    "        move = get_best_move(board, computer, player)\n",
    "        if move:\n",
    "            board[move[0]][move[1]] = computer\n",
    "            print(f\"AI chose ({move[0]}, {move[1]})\")\n",
    "        else:\n",
    "            print(\"No valid moves left. It's a draw!\")\n",
    "            break\n",
    "        \n",
    "        print(\"\\nUpdated Board:\")\n",
    "        print_board(board)\n",
    "\n",
    "        if check_winner(board, computer):\n",
    "            print(f\"\\n AI wins! Better luck next time.\")\n",
    "            break\n",
    "        if is_full(board):\n",
    "            print(\"\\nIt's a draw!\")\n",
    "            break"
   ]
  },
  {
   "cell_type": "code",
   "execution_count": 316,
   "id": "3c5015a3-2ee6-4a99-b35f-f7ab1be4bbdf",
   "metadata": {},
   "outputs": [
    {
     "name": "stdin",
     "output_type": "stream",
     "text": [
      "Choose your mark (X/O):  X\n"
     ]
    },
    {
     "name": "stdout",
     "output_type": "stream",
     "text": [
      "You are X. Computer is O.\n",
      "\n",
      "Initial Board:\n",
      "  |   |  \n",
      "---------------\n",
      "  |   |  \n",
      "---------------\n",
      "  |   |  \n",
      "---------------\n"
     ]
    },
    {
     "name": "stdin",
     "output_type": "stream",
     "text": [
      "Enter row and column for X (0-2):  2 0\n"
     ]
    },
    {
     "name": "stdout",
     "output_type": "stream",
     "text": [
      "\n",
      "Updated Board:\n",
      "  |   |  \n",
      "---------------\n",
      "  |   |  \n",
      "---------------\n",
      "X |   |  \n",
      "---------------\n",
      "\n",
      "AI 's Move:\n",
      "AI chose (1, 1)\n",
      "\n",
      "Updated Board:\n",
      "  |   |  \n",
      "---------------\n",
      "  | O |  \n",
      "---------------\n",
      "X |   |  \n",
      "---------------\n"
     ]
    },
    {
     "name": "stdin",
     "output_type": "stream",
     "text": [
      "Enter row and column for X (0-2):  2 2\n"
     ]
    },
    {
     "name": "stdout",
     "output_type": "stream",
     "text": [
      "\n",
      "Updated Board:\n",
      "  |   |  \n",
      "---------------\n",
      "  | O |  \n",
      "---------------\n",
      "X |   | X\n",
      "---------------\n",
      "\n",
      "AI 's Move:\n",
      "AI chose (2, 1)\n",
      "\n",
      "Updated Board:\n",
      "  |   |  \n",
      "---------------\n",
      "  | O |  \n",
      "---------------\n",
      "X | O | X\n",
      "---------------\n"
     ]
    },
    {
     "name": "stdin",
     "output_type": "stream",
     "text": [
      "Enter row and column for X (0-2):  0 1\n"
     ]
    },
    {
     "name": "stdout",
     "output_type": "stream",
     "text": [
      "\n",
      "Updated Board:\n",
      "  | X |  \n",
      "---------------\n",
      "  | O |  \n",
      "---------------\n",
      "X | O | X\n",
      "---------------\n",
      "\n",
      "AI 's Move:\n",
      "AI chose (0, 0)\n",
      "\n",
      "Updated Board:\n",
      "O | X |  \n",
      "---------------\n",
      "  | O |  \n",
      "---------------\n",
      "X | O | X\n",
      "---------------\n"
     ]
    },
    {
     "name": "stdin",
     "output_type": "stream",
     "text": [
      "Enter row and column for X (0-2):  1 0\n"
     ]
    },
    {
     "name": "stdout",
     "output_type": "stream",
     "text": [
      "\n",
      "Updated Board:\n",
      "O | X |  \n",
      "---------------\n",
      "X | O |  \n",
      "---------------\n",
      "X | O | X\n",
      "---------------\n",
      "\n",
      "AI 's Move:\n",
      "AI chose (0, 2)\n",
      "\n",
      "Updated Board:\n",
      "O | X | O\n",
      "---------------\n",
      "X | O |  \n",
      "---------------\n",
      "X | O | X\n",
      "---------------\n"
     ]
    },
    {
     "name": "stdin",
     "output_type": "stream",
     "text": [
      "Enter row and column for X (0-2):  1 2\n"
     ]
    },
    {
     "name": "stdout",
     "output_type": "stream",
     "text": [
      "\n",
      "Updated Board:\n",
      "O | X | O\n",
      "---------------\n",
      "X | O | X\n",
      "---------------\n",
      "X | O | X\n",
      "---------------\n",
      "\n",
      "It's a draw!\n"
     ]
    }
   ],
   "source": [
    "play_game()"
   ]
  },
  {
   "cell_type": "code",
   "execution_count": null,
   "id": "0009849c-e060-44b4-bf71-f897d86fdda0",
   "metadata": {},
   "outputs": [],
   "source": []
  }
 ],
 "metadata": {
  "kernelspec": {
   "display_name": "Python 3 (ipykernel)",
   "language": "python",
   "name": "python3"
  },
  "language_info": {
   "codemirror_mode": {
    "name": "ipython",
    "version": 3
   },
   "file_extension": ".py",
   "mimetype": "text/x-python",
   "name": "python",
   "nbconvert_exporter": "python",
   "pygments_lexer": "ipython3",
   "version": "3.12.4"
  }
 },
 "nbformat": 4,
 "nbformat_minor": 5
}
